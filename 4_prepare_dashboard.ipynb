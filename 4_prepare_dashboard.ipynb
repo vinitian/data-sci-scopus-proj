{
 "cells": [
  {
   "cell_type": "markdown",
   "metadata": {},
   "source": [
    "# Details"
   ]
  },
  {
   "cell_type": "markdown",
   "metadata": {},
   "source": [
    "This Jupyter Notebook is used to create `funderSubjArea.csv` and `uniqueCountSubjArea.csv`.\n",
    "\n",
    "If you already have the .csv file, you can skip the section."
   ]
  },
  {
   "cell_type": "markdown",
   "metadata": {},
   "source": [
    "fileที่ใช้ทำข้อมูลdashboardอยู่ใน folder :\n",
    "- accumCount: ไม่ได้ใช้accumCountTime.csv\n",
    "- funderSubjArea: ใช้หมด\n",
    "- predFund: ใช้แค่fundingMLP.ipynb กับ fundingMLP1.model\n",
    "- uniqueCount: ใช้หมด"
   ]
  },
  {
   "cell_type": "markdown",
   "metadata": {},
   "source": [
    "# Create `funderSubjArea.csv`"
   ]
  },
  {
   "cell_type": "code",
   "execution_count": null,
   "metadata": {},
   "outputs": [],
   "source": [
    "import pandas as pd\n",
    "import json\n",
    "from os import listdir\n",
    "from os.path import isfile, join"
   ]
  },
  {
   "cell_type": "code",
   "execution_count": null,
   "metadata": {},
   "outputs": [],
   "source": [
    "path = 'sorted_papers/'\n",
    "fileNames = [f for f in listdir(path) if isfile(join(path, f))]"
   ]
  },
  {
   "cell_type": "code",
   "execution_count": null,
   "metadata": {},
   "outputs": [],
   "source": [
    "df = pd.DataFrame(columns=['10', '11', '12', '13', '14', '15', '16', '17', '18', '19', '20', '21', '22', '23', '24', '25', \n",
    " '26', '27', '28', '29', '30', '31', '32', '33', '34', '35', '36', 'sum'], \n",
    "                           dtype='int')\n",
    "for i in range(len(fileNames)):\n",
    "    print('creating', i)\n",
    "    with open(path+fileNames[i], 'r', encoding=\"utf8\") as file:\n",
    "        data = json.load(file)\n",
    "        for funder in data['funding']:\n",
    "            if funder is None:\n",
    "                continue\n",
    "            if funder not in df.index:\n",
    "                df.loc[funder] = {'10': 0, '11': 0, '12': 0, '13': 0, '14': 0, '15': 0, '16': 0, '17': 0, '18': 0, '19': 0, '20': 0, '21': 0, '22': 0, '23': 0, '24': 0, '25': 0, '26': 0, '27': 0, '28': 0, '29': 0, '30': 0, '31': 0, '32': 0, '33': 0, '34': 0, '35': 0, '36': 0, 'sum': 0}\n",
    "            subjList = [obj['@code'][0:2] for obj in data['subject-areas']]\n",
    "            subjList = set(subjList)\n",
    "            for subjArea in subjList:\n",
    "                df.loc[funder, subjArea] +=1\n",
    "                df.loc[funder, 'sum'] +=1\n",
    "df.sort_values(by='sum', ascending=False)"
   ]
  },
  {
   "cell_type": "code",
   "execution_count": null,
   "metadata": {},
   "outputs": [],
   "source": [
    "df.to_csv('funderSubjArea.csv')"
   ]
  },
  {
   "cell_type": "markdown",
   "metadata": {},
   "source": [
    "# Create `uniqueCountSubjArea.csv`"
   ]
  },
  {
   "cell_type": "code",
   "execution_count": null,
   "metadata": {},
   "outputs": [],
   "source": [
    "import pandas as pd\n",
    "import json\n",
    "from os import listdir\n",
    "from os.path import isfile, join\n",
    "\n",
    "path = 'sorted_papers/'\n",
    "fileNames = [f for f in listdir(path) if isfile(join(path, f))]"
   ]
  },
  {
   "cell_type": "code",
   "execution_count": null,
   "metadata": {},
   "outputs": [],
   "source": [
    "rowsName = ['10', '11', '12', '13', '14', '15', '16', '17', '18', '19', '20', '21', '22', '23', '24', '25', \n",
    " '26', '27', '28', '29', '30', '31', '32', '33', '34', '35', '36']\n",
    "\n",
    "df = dict()\n",
    "for name in rowsName:\n",
    "    df[name] = {'paperCount': 0,'keywords': set(),'authors': set(),'citedBy': 0,'refCount': set(),'funding': set()}\n",
    "for i in range(len(fileNames)):\n",
    "    print('creating', fileNames[i])\n",
    "    with open(path+fileNames[i], 'r', encoding=\"utf8\") as file:\n",
    "        data = json.load(file)\n",
    "        for obj in data['subject-areas']:\n",
    "            subjArea = obj['@code'][0:2] # this will be ID\n",
    "\n",
    "            df[subjArea]['paperCount'] += 1\n",
    "            df[subjArea]['keywords'].update(set(data['keywords']))\n",
    "            df[subjArea]['authors'].update(set(data['authors']))\n",
    "            df[subjArea]['citedBy'] += data['citedby-count']\n",
    "            df[subjArea]['refCount'].update(set(data['ref-list']))\n",
    "            df[subjArea]['funding'].update(set(data['funding']))\n",
    "\n",
    "for name in rowsName:\n",
    "    df[name]['keywords'] = len(df[name]['keywords'])\n",
    "    df[name]['authors'] = len(df[name]['authors'])\n",
    "    df[name]['refCount'] = len(df[name]['refCount'])\n",
    "    df[name]['funding'] = len(df[name]['funding'])\n",
    "df = pd.DataFrame.from_dict(df, orient='index')\n",
    "df"
   ]
  },
  {
   "cell_type": "code",
   "execution_count": null,
   "metadata": {},
   "outputs": [],
   "source": [
    "df.to_csv('uniqueCountSubjArea.csv')"
   ]
  }
 ],
 "metadata": {
  "language_info": {
   "name": "python"
  }
 },
 "nbformat": 4,
 "nbformat_minor": 2
}
