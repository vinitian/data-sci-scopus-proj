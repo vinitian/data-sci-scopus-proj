{
 "cells": [
  {
   "cell_type": "markdown",
   "metadata": {},
   "source": [
    "# Details"
   ]
  },
  {
   "cell_type": "markdown",
   "metadata": {},
   "source": [
    "This Jupyter notebook is used to retrieve papers affiliated with Chulalongkorn from 2014 to 2017 by using Scopus API.\n",
    "\n",
    "The retrieved papers will be in folder `papers` after you press \"Run All\". The process may take several hours.\n",
    "\n",
    "Alternatively, you can also directly download the zip file of cleaned papers from [here](https://drive.google.com/file/d/1J1gk4LVZSjy-B2BDxy5SrwZ3LMHHmIRY/view?usp=sharing) and skip running `1_add_papers.ipynb`, `2_add_variables.ipynb`, and `3_clean_data.ipynb`."
   ]
  },
  {
   "cell_type": "markdown",
   "metadata": {},
   "source": [
    "# Import & create folder"
   ]
  },
  {
   "cell_type": "code",
   "execution_count": null,
   "metadata": {},
   "outputs": [],
   "source": [
    "# create folder \"papers\" to store the retrieve papers, which is in JSON format\n",
    "!mkdir papers"
   ]
  },
  {
   "cell_type": "code",
   "execution_count": null,
   "metadata": {},
   "outputs": [],
   "source": [
    "# install \"requests\" if it is not on your computer\n",
    "!pip3 install requests"
   ]
  },
  {
   "cell_type": "code",
   "execution_count": null,
   "metadata": {},
   "outputs": [],
   "source": [
    "import requests\n",
    "import json"
   ]
  },
  {
   "cell_type": "code",
   "execution_count": null,
   "metadata": {},
   "outputs": [],
   "source": [
    "# a new API can be made key at https://dev.elsevier.com/apikey/manage\")\n",
    "apikey = \"6eaf618799ef1af803cb82754e49d71a\""
   ]
  },
  {
   "cell_type": "markdown",
   "metadata": {},
   "source": [
    "# Retrieve 2016 - 2017 papers"
   ]
  },
  {
   "cell_type": "code",
   "execution_count": 3,
   "metadata": {},
   "outputs": [],
   "source": [
    "# set start and last paper to add here\n",
    "# last is **exclusive** : you'll get paper00000.json - paper04999.json\n",
    "start = 0\n",
    "last = 5000"
   ]
  },
  {
   "cell_type": "code",
   "execution_count": null,
   "metadata": {},
   "outputs": [],
   "source": [
    "# *Exclusive end*\n",
    "# For example, get_scopusid_dict(0, 300) will result in\n",
    "# scopusIDlist.json with id = 0 to 299.0)\n",
    "\n",
    "def get_scopusid_dict(start, end):\n",
    "    scopus_dict = {}\n",
    "    id = start\n",
    "    untilbatch = end\n",
    "    for i in range(start//25, untilbatch//25):\n",
    "        response = requests.get(f\"https://api.elsevier.com/content/search/scopus?start={i*25}&httpaccept=application/json&query=AFFIL ( chulalongkorn ) AND PUBYEAR > 2013 AND PUBYEAR < 2018&apiKey={apikey}\")\n",
    "        \n",
    "        if str(response) == \"<Response [429]>\":\n",
    "            print(f\"Rate limit reached at get_scopusid_dict({start}, {end})! Please get a new API key at https://dev.elsevier.com/apikey/manage\")\n",
    "            return\n",
    "        \n",
    "        paperlist = json.loads(response.text)[\"search-results\"][\"entry\"]\n",
    "        for paper in paperlist:\n",
    "            scopus_dict[id] = paper[\"prism:url\"]\n",
    "            id += 1\n",
    "    with open(\"scopusIDlist.json\", \"w\") as f: \n",
    "        json.dump(scopus_dict, f, indent=4)\n",
    "    return scopus_dict"
   ]
  },
  {
   "cell_type": "code",
   "execution_count": null,
   "metadata": {},
   "outputs": [],
   "source": [
    "def get_paper_by_scopusAPI(id, url):\n",
    "\n",
    "    number = \"0\"*(5 - len(str(id))) + str(id)\n",
    "\n",
    "    response = requests.get(f\"{url}?httpaccept=application/json&apiKey={apikey}\")\n",
    "    \n",
    "    if str(response) == \"<Response [429]>\":\n",
    "            print(f\"Rate limit reached at get_paper_by_scopusAPI({id}, {url})! Please get a new API key at https://dev.elsevier.com/apikey/manage\")\n",
    "            return\n",
    "    \n",
    "    mydata = json.loads(response.text)\n",
    "    with open(f\"papers/paper{number}.json\", \"w\") as f:\n",
    "        f.write(json.dumps(mydata, indent=4))\n",
    "        f.close()\n"
   ]
  },
  {
   "cell_type": "code",
   "execution_count": null,
   "metadata": {},
   "outputs": [],
   "source": [
    "for i in range(start//25, last//25):\n",
    "      print(f\"batch {i*25} to {i*25 + 24}\")\n",
    "      scopus_dict = get_scopusid_dict(i*25, i*25 + 25)\n",
    "      \n",
    "      with open(\"scopusIDlist.json\") as f: \n",
    "            scopus_dict = json.load(f)\n",
    "\n",
    "      for id, url in scopus_dict.items():\n",
    "            get_paper_by_scopusAPI(id, url)"
   ]
  },
  {
   "cell_type": "markdown",
   "metadata": {},
   "source": [
    "# Retrieve 2014 - 2015 papers"
   ]
  },
  {
   "cell_type": "code",
   "execution_count": null,
   "metadata": {},
   "outputs": [],
   "source": [
    "# Set start and last paper id to add here\n",
    "# last is **exclusive** : you'll get paper00000.json - paper04174.json\n",
    "start2 = 0\n",
    "last2 = 4175"
   ]
  },
  {
   "cell_type": "code",
   "execution_count": null,
   "metadata": {},
   "outputs": [],
   "source": [
    "# *Exclusive end*\n",
    "# For example, get_scopusid_dict(0, 300) will result in\n",
    "# scopusIDlist.json with id = 0 to 299.\n",
    "\n",
    "def get_scopusid_dict(start, end):\n",
    "    scopus_dict = {}\n",
    "    id = start\n",
    "    untilbatch = end\n",
    "    for i in range(start//25, untilbatch//25):\n",
    "        response = requests.get(f\"https://api.elsevier.com/content/search/scopus?start={i*25}&httpaccept=application/json&query=AFFIL ( chulalongkorn ) AND PUBYEAR > 2013 AND PUBYEAR < 2016&apiKey={apikey}\")\n",
    "        \n",
    "        if str(response) == \"<Response [429]>\":\n",
    "            print(f\"Rate limit reached at get_scopusid_dict({start}, {end})! Please get a new API key at https://dev.elsevier.com/apikey/manage\")\n",
    "            return\n",
    "        \n",
    "        paperlist = json.loads(response.text)[\"search-results\"][\"entry\"]\n",
    "        \n",
    "        for paper in paperlist:\n",
    "            scopus_dict[id] = paper[\"prism:url\"]\n",
    "            id += 1\n",
    "            \n",
    "    with open(\"scopusIDlist.json\", \"w\") as f: \n",
    "        json.dump(scopus_dict, f, indent=4)\n",
    "    return scopus_dict"
   ]
  },
  {
   "cell_type": "code",
   "execution_count": null,
   "metadata": {},
   "outputs": [],
   "source": [
    "def get_paper_by_scopusAPI_before2016(id, url):\n",
    "\n",
    "    total = int(id) + 4857  # Have to +4857 so that the paper id is \n",
    "    number = \"0\"*(5 - len(str(total))) + str(total)\n",
    "\n",
    "    response = requests.get(f\"{url}?httpaccept=application/json&apiKey={apikey}\")\n",
    "    \n",
    "    if str(response) == \"<Response [429]>\":\n",
    "        print(f\"Rate limit reached at get_paper_by_scopusAPI({id}, {url})! Please get a new API key at https://dev.elsevier.com/apikey/manage\")\n",
    "        return\n",
    "    \n",
    "    mydata = json.loads(response.text)\n",
    "    with open(f\"papers/paper{number}.json\", \"w\") as f:\n",
    "        f.write(json.dumps(mydata, indent=4))\n",
    "        f.close()\n"
   ]
  },
  {
   "cell_type": "code",
   "execution_count": null,
   "metadata": {},
   "outputs": [],
   "source": [
    "for i in range(start2//25, last2//25):\n",
    "      print(f\"batch {i*25} to {i*25 + 24}\")\n",
    "      scopus_dict = get_scopusid_dict(i*25, i*25 + 25)\n",
    "      \n",
    "      with open(\"scopusIDlist.json\") as f: \n",
    "            scopus_dict = json.load(f)\n",
    "\n",
    "      for id, url in scopus_dict.items():\n",
    "            get_paper_by_scopusAPI_before2016(id, url)"
   ]
  },
  {
   "cell_type": "markdown",
   "metadata": {},
   "source": [
    "# Delete unnecessary files"
   ]
  },
  {
   "cell_type": "code",
   "execution_count": null,
   "metadata": {},
   "outputs": [],
   "source": [
    "!rm scopusIDlist.json"
   ]
  }
 ],
 "metadata": {
  "kernelspec": {
   "display_name": "data_sci_midterm",
   "language": "python",
   "name": "python3"
  },
  "language_info": {
   "codemirror_mode": {
    "name": "ipython",
    "version": 3
   },
   "file_extension": ".py",
   "mimetype": "text/x-python",
   "name": "python",
   "nbconvert_exporter": "python",
   "pygments_lexer": "ipython3",
   "version": "3.12.5"
  }
 },
 "nbformat": 4,
 "nbformat_minor": 2
}
